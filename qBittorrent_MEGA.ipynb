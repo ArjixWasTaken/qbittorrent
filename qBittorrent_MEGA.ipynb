{
  "nbformat": 4,
  "nbformat_minor": 0,
  "metadata": {
    "colab": {
      "name": "qBittorrent-MEGA.ipynb",
      "private_outputs": true,
      "provenance": [],
      "collapsed_sections": []
    },
    "kernelspec": {
      "name": "python3",
      "display_name": "Python 3"
    },
    "language_info": {
      "name": "python"
    }
  },
  "cells": [
    {
      "cell_type": "code",
      "metadata": {
        "id": "CpW7Op5-56lJ",
        "cellView": "form"
      },
      "source": [
        "#@title **1 - INITIATION**\n",
        "import os, multiprocessing, subprocess, contextlib, time, threading\n",
        "from google.colab import output\n",
        "\n",
        "USERNAME = \"\" #@param {type:\"string\"}\n",
        "PASSWORD = \"\" #@param {type:\"string\"}\n",
        "#@markdown *- Put your Mega account here -*\n",
        "\n",
        "def login():\n",
        "    os.environ['usrC'] = USERNAME\n",
        "    os.environ['pwdC'] = PASSWORD\n",
        "    !mega-login $usrC $pwdC\n",
        "\n",
        "print('----- Installing Qbittorrent -----')\n",
        "if not os.path.isfile('/usr/bin/qbittorrent-nox'):\n",
        "    !apt install qbittorrent-nox\n",
        "output.clear()\n",
        "print(\"----- Installing MEGA -----\")\n",
        "if not os.path.exists(\"/usr/bin/mega-cmd\"):\n",
        "    !apt-get -y update')\n",
        "    !apt-get -y install libmms0 libc-ares2 libc6 libcrypto++6 libgcc1 libmediainfo0v5 libpcre3 libpcrecpp0v5 libssl1.1 libstdc++6 libzen0v5 zlib1g apt-transport-https\n",
        "    !curl -sL -o /var/cache/apt/archives/MEGAcmd.deb https://mega.nz/linux/MEGAsync/Debian_9.0/amd64/megacmd-Debian_9.0_amd64.deb\n",
        "    !dpkg -i /var/cache/apt/archives/MEGAcmd.deb\n",
        "    output.clear()\n",
        "    print(\"MEGA is installed.\")\n",
        "print('----- Login in -----')\n",
        "p = multiprocessing.Process(target=login)\n",
        "p.start()\n",
        "p.join(10)\n",
        "if p.is_alive():\n",
        "    p.terminate()\n",
        "    p.join()\n",
        "print('----- Completed -----')\n",
        "!mega-whoami\n",
        "print('----- Done -----')"
      ],
      "execution_count": null,
      "outputs": []
    },
    {
      "cell_type": "code",
      "metadata": {
        "id": "cFf4qzDh_YAM",
        "cellView": "form"
      },
      "source": [
        "#@title **2. START QBITTORENT**\n",
        "SAVE_PATH = '/content/download'\n",
        "\n",
        "if not os.path.isdir(SAVE_PATH):\n",
        "    os.mkdir(SAVE_PATH)\n",
        "!mkdir -p -m 666 /{content/qBittorrent,root/{.qBittorrent_temp,.config/qBittorrent}} && curl -s https://pastebin.com/raw/zn6HBgHz -o /root/.config/qBittorrent/qBittorrent.conf\n",
        "with open('/root/.config/qBittorrent/qBittorrent.conf', 'r') as f:\n",
        "    content = f.read().replace('%SavePath%', SAVE_PATH)\n",
        "with open('/root/.config/qBittorrent/qBittorrent.conf', 'w') as f:\n",
        "    f.write(content)\n",
        "!qbittorrent-nox -d --webui-port=4444\n",
        "print('----- Open this link to open QBittorrent -----')\n",
        "print(output.eval_js(\"google.colab.kernel.proxyPort(4444)\"))"
      ],
      "execution_count": null,
      "outputs": []
    },
    {
      "cell_type": "code",
      "metadata": {
        "cellView": "form",
        "id": "wvAYMkwAiDzi"
      },
      "source": [
        "#@title **2.1 - INFINITY RUN**\n",
        "#@markdown *to keep Colab from auto-terminating*\n",
        "#@markdown <br>*- Thank to John Titor code -*\n",
        "while True:pass\n"
      ],
      "execution_count": null,
      "outputs": []
    },
    {
      "cell_type": "code",
      "metadata": {
        "cellView": "form",
        "id": "eP9jYcoGi_Z0"
      },
      "source": [
        "#@title **3. UPLOADING TO MEGA**\n",
        "#@markdown *only run this cell after you're done torrenting*\n",
        "newlines = ['\\n', '\\r\\n', '\\r']\n",
        "\n",
        "\n",
        "def unbuffered(proc, stream='stdout'):\n",
        "    stream = getattr(proc, stream)\n",
        "    with contextlib.closing(stream):\n",
        "        while True:\n",
        "            out = []\n",
        "            last = stream.read(1)\n",
        "            # Don't loop forever\n",
        "            if last == '' and proc.poll() is not None:\n",
        "                break\n",
        "            while last not in newlines:\n",
        "                # Don't loop forever\n",
        "                if last == '' and proc.poll() is not None:\n",
        "                    break\n",
        "                out.append(last)\n",
        "                last = stream.read(1)\n",
        "            out = ''.join(out)\n",
        "            yield out\n",
        "\n",
        "\n",
        "def clear_output():\n",
        "    while True:\n",
        "        time.sleep(60)\n",
        "        output.clear()\n",
        "        print('----- Transfering -----')\n",
        "\n",
        "threading.Thread(target=clear_output).start()\n",
        "print('----- Transfering -----')\n",
        "file_list = [os.path.join(SAVE_PATH, f) for f in os.listdir(SAVE_PATH)]\n",
        "for f in file_list:\n",
        "    print(f'----- Uploading {f} -----')\n",
        "    cmd = ['mega-put', '-c', '--ignore-quota-warn', f]\n",
        "    proc = subprocess.Popen(\n",
        "            cmd,\n",
        "            stdout=subprocess.PIPE,\n",
        "            stderr=subprocess.STDOUT,\n",
        "            universal_newlines=True,\n",
        "        )\n",
        "    for line in unbuffered(proc):\n",
        "        print(line)\n",
        "print('----- Completed -----')\n"
      ],
      "execution_count": null,
      "outputs": []
    }
  ]
}